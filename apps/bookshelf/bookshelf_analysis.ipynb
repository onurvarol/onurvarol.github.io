{
 "cells": [
  {
   "cell_type": "code",
   "execution_count": 1,
   "metadata": {
    "collapsed": false
   },
   "outputs": [
    {
     "name": "stdout",
     "output_type": "stream",
     "text": [
      "Populating the interactive namespace from numpy and matplotlib\n"
     ]
    }
   ],
   "source": [
    "%pylab inline\n",
    "import os, sys\n",
    "from datetime import datetime\n",
    "from dateutil.relativedelta import relativedelta\n",
    "import json\n",
    "import numpy as np\n",
    "import matplotlib.pylab as plt\n",
    "import matplotlib.dates as mdates\n",
    "\n",
    "import pandas as pd"
   ]
  },
  {
   "cell_type": "code",
   "execution_count": 2,
   "metadata": {
    "collapsed": false
   },
   "outputs": [
    {
     "name": "stdout",
     "output_type": "stream",
     "text": [
      "283 books read\n"
     ]
    }
   ],
   "source": [
    "bookshelf = json.loads(open('bookshelf.json','r').read())['books']\n",
    "count = 0\n",
    "for b in bookshelf:\n",
    "    if '(' in b['name'] and ')' in b['name']:\n",
    "        #print b['name']#.split('(')[-1].split(')')[0]\n",
    "        count += int(b['name'].split('(')[-1].split(')')[0])\n",
    "    else:\n",
    "        count += 1\n",
    "print count, 'books read'"
   ]
  },
  {
   "cell_type": "code",
   "execution_count": 3,
   "metadata": {
    "collapsed": false
   },
   "outputs": [
    {
     "name": "stdout",
     "output_type": "stream",
     "text": [
      "{u'2011-08': 7, u'2011-09': 7, u'2014-08': 4, u'2014-05': 4, u'2014-04': 3, u'2014-07': 3, u'2014-06': 3, u'2011-06': 4, u'2011-07': 1, u'2014-03': 1, u'2011-05': 3, u'2012-10': 2, u'2010-03': 2, u'2010-08': 1, u'2013-08': 1, u'2010-04': 1, u'2010-07': 2, u'2013-05': 1, u'2015-11': 4, u'2015-10': 3, u'2015-12': 4, u'2013-01': 2, u'2013-02': 3, u'2013-03': 2, u'2008-08': 2, u'2013-07': 2, u'2010-09': 4, u'2009-06': 3, u'2007-01': 2, u'2008-05': 1, u'2008-06': 2, u'2008-07': 5, u'2009-07': 1, u'2011-02': 1, u'2009-05': 2, u'2009-04': 2, u'2016-10': 5, u'2010-10': 1, u'2009-01': 2, u'2011-03': 3, u'2009-03': 1, u'2009-09': 3, u'2009-11': 2, u'2015-06': 3, u'2015-07': 1, u'2015-04': 1, u'2015-02': 4, u'2015-03': 3, u'2015-01': 2, u'2014-12': 4, u'2007-09': 3, u'2011-11': 2, u'2011-12': 2, u'2007-04': 1, u'2012-09': 1, u'2012-08': 2, u'2007-12': 1, u'2011-04': 2, u'2007-10': 1, u'2012-03': 1, u'2012-02': 2, u'2012-01': 4, u'2009-12': 2, u'2013-12': 1, u'2012-05': 1, u'2010-11': 1, u'2006-06': 1, u'2006-07': 1, u'2007-06': 1, u'2012-11': 1, u'2008-11': 2, u'2008-10': 2, u'2007-07': 2, u'2016-07': 6, u'2016-06': 5, u'2016-05': 3, u'2010-02': 4, u'2016-02': 1, u'2016-01': 3, u'2010-05': 1, u'2009-08': 1, u'2016-09': 2, u'2016-08': 2} 195\n"
     ]
    }
   ],
   "source": [
    "monthly = dict()\n",
    "monthlyA, monthlyB = dict(), dict()\n",
    "for b in bookshelf:\n",
    "    if len(b['date'].split('-')) < 2:\n",
    "        continue\n",
    "    dstr = '-'.join(b['date'].split('-')[:2])\n",
    "    if dstr not in monthly:\n",
    "        monthly[dstr] = 0\n",
    "        monthlyA[dstr] = 0\n",
    "        monthlyB[dstr] = 0\n",
    "        \n",
    "    if '(' in b['name'] and ')' in b['name']:\n",
    "        #print b['name']#.split('(')[-1].split(')')[0]\n",
    "        nBook = int(b['name'].split('(')[-1].split(')')[0])\n",
    "        monthly[dstr] += nBook\n",
    "        if 'audio' in b:\n",
    "            monthlyA[dstr] += nBook\n",
    "        else:\n",
    "            monthlyB[dstr] += nBook\n",
    "    else:\n",
    "        monthly[dstr] += 1\n",
    "        if 'audio' in b:\n",
    "            monthlyA[dstr] += 1\n",
    "        else:\n",
    "            monthlyB[dstr] += 1\n",
    "            \n",
    "print monthly, sum(monthly.values())"
   ]
  },
  {
   "cell_type": "code",
   "execution_count": 4,
   "metadata": {
    "collapsed": false
   },
   "outputs": [
    {
     "data": {
      "image/png": "[encoded data removed]",
      "text/plain": [
       "<matplotlib.figure.Figure at 0x1068b52d0>"
      ]
     },
     "metadata": {},
     "output_type": "display_data"
    }
   ],
   "source": [
    "mSorted = sorted(monthly.keys())\n",
    "#for m in mSorted:\n",
    "#    print m, monthly[m], datetime.strptime(m, '%Y-%m')\n",
    "    \n",
    "fig = plt.figure(figsize=(12,3))\n",
    "plt.stem([datetime.strptime(m, '%Y-%m') for m in mSorted], [monthly[m] for m in mSorted])\n",
    "plt.ylim(ymax=max(monthly.values())+1)\n",
    "\n",
    "sDate = datetime.strptime(mSorted[0], '%Y-%m') + relativedelta(months=-1)\n",
    "eDate = datetime.strptime(mSorted[-1], '%Y-%m') + relativedelta(months=+1)\n",
    "while sDate < eDate:\n",
    "    temp = sDate + relativedelta(months=+1)\n",
    "    cval = 1-abs(sDate.month-6)/6.0\n",
    "    plt.axvspan(sDate, temp, facecolor=plt.cm.rainbow(cval),#'{}'.format(), \n",
    "                edgecolor='none',alpha=0.35)\n",
    "    sDate = temp\n",
    "\n",
    "plt.ylabel('# of books per month', fontsize=14)\n",
    "plt.tick_params(labelsize=12)\n",
    "plt.savefig('reading_monthly_freq_stem.png', bbox_inches='tight', dpi=300)"
   ]
  },
  {
   "cell_type": "code",
   "execution_count": 5,
   "metadata": {
    "collapsed": false
   },
   "outputs": [
    {
     "data": {
      "image/png": "[encoded data removed]",
      "text/plain": [
       "<matplotlib.figure.Figure at 0x106ec9d50>"
      ]
     },
     "metadata": {},
     "output_type": "display_data"
    }
   ],
   "source": [
    "fig = plt.figure(figsize=(12,3))\n",
    "mSorted = sorted(monthly.keys())\n",
    "sDate = datetime.strptime(mSorted[0], '%Y-%m') + relativedelta(months=-2)\n",
    "eDate = datetime.strptime(mSorted[-1], '%Y-%m') + relativedelta(months=+2)\n",
    "while sDate < eDate:\n",
    "    temp = sDate + relativedelta(months=+1)\n",
    "    cval = 1-abs(sDate.month-6)/6.0\n",
    "    plt.axvspan(sDate, temp, facecolor=plt.cm.gray(cval),#'{}'.format(), \n",
    "                edgecolor='none',alpha=0.35)\n",
    "    sDate = temp\n",
    "\n",
    "mSorted = [m for m in sorted(monthlyB.keys()) if monthlyB[m]>0]\n",
    "plt.bar([datetime.strptime(m, '%Y-%m') for m in mSorted], \n",
    "        [monthlyB[m] for m in mSorted], label='Book', \n",
    "        width = 15, linewidth=0, color='b')\n",
    "\n",
    "mSorted = [m for m in sorted(monthlyA.keys()) if monthlyA[m]>0]\n",
    "plt.bar([datetime.strptime(m, '%Y-%m') for m in mSorted], \n",
    "        [monthlyA[m] for m in mSorted],\n",
    "        bottom=[monthlyB.get(m,0) for m in mSorted],\n",
    "        label='Audio', linewidth=0, color='r', width=15)\n",
    "\n",
    "plt.ylabel('# of books per month', fontsize=14)\n",
    "plt.tick_params(labelsize=12)\n",
    "plt.legend(loc='upper left')\n",
    "plt.savefig('reading_monthly_freq.png', bbox_inches='tight', dpi=300)"
   ]
  },
  {
   "cell_type": "code",
   "execution_count": 5,
   "metadata": {
    "collapsed": false
   },
   "outputs": [
    {
     "name": "stdout",
     "output_type": "stream",
     "text": [
      "28\n",
      "[datetime.datetime(2009, 5, 20, 0, 0), datetime.datetime(2015, 1, 23, 0, 0), datetime.datetime(2015, 12, 9, 0, 0), datetime.datetime(2015, 12, 25, 0, 0), datetime.datetime(2015, 12, 26, 0, 0), datetime.datetime(2015, 12, 30, 0, 0), datetime.datetime(2016, 1, 15, 0, 0), datetime.datetime(2016, 1, 18, 0, 0), datetime.datetime(2016, 1, 30, 0, 0), datetime.datetime(2016, 2, 7, 0, 0), datetime.datetime(2016, 5, 13, 0, 0), datetime.datetime(2016, 5, 16, 0, 0), datetime.datetime(2016, 5, 20, 0, 0), datetime.datetime(2016, 6, 5, 0, 0), datetime.datetime(2016, 6, 15, 0, 0), datetime.datetime(2016, 6, 16, 0, 0), datetime.datetime(2016, 6, 17, 0, 0), datetime.datetime(2016, 6, 30, 0, 0), datetime.datetime(2016, 7, 5, 0, 0), datetime.datetime(2016, 7, 8, 0, 0), datetime.datetime(2016, 7, 11, 0, 0), datetime.datetime(2016, 7, 15, 0, 0), datetime.datetime(2016, 7, 21, 0, 0), datetime.datetime(2016, 7, 24, 0, 0), datetime.datetime(2016, 8, 9, 0, 0), datetime.datetime(2016, 8, 18, 0, 0), datetime.datetime(2016, 9, 12, 0, 0), datetime.datetime(2016, 9, 22, 0, 0)]\n",
      "[2074, 320, 16, 1, 4, 16, 3, 12, 8, 96, 3, 4, 16, 10, 1, 1, 13, 5, 3, 3, 4, 6, 3, 16, 9, 25, 10]\n"
     ]
    }
   ],
   "source": [
    "# Inter-event time for finishing books\n",
    "readDates = list()\n",
    "for b in bookshelf:\n",
    "    if len(b['date'].split('-')) < 3:\n",
    "        continue\n",
    "    readDates.append(datetime.strptime(b['date'], '%Y-%m-%d'))\n",
    "print len(readDates)\n",
    "\n",
    "sortedDates = sorted(readDates)\n",
    "print sortedDates\n",
    "tdiff = [(sortedDates[i]-sortedDates[i-1]).days for i in range(1, len(sortedDates))]\n",
    "print tdiff\n",
    "\n",
    "#plt.figure(figsize=(4,4))\n",
    "#plt.hist(sorted(tdiff)[:-3])"
   ]
  },
  {
   "cell_type": "code",
   "execution_count": null,
   "metadata": {
    "collapsed": true
   },
   "outputs": [],
   "source": []
  }
 ],
 "metadata": {
  "kernelspec": {
   "display_name": "Python 2",
   "language": "python",
   "name": "python2"
  },
  "language_info": {
   "codemirror_mode": {
    "name": "ipython",
    "version": 2
   },
   "file_extension": ".py",
   "mimetype": "text/x-python",
   "name": "python",
   "nbconvert_exporter": "python",
   "pygments_lexer": "ipython2",
   "version": "2.7.12"
  }
 },
 "nbformat": 4,
 "nbformat_minor": 0
}
