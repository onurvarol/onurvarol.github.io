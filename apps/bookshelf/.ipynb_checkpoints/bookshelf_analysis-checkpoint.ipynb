{
 "cells": [
  {
   "cell_type": "code",
   "execution_count": 1,
   "metadata": {
    "collapsed": false
   },
   "outputs": [
    {
     "name": "stdout",
     "output_type": "stream",
     "text": [
      "Populating the interactive namespace from numpy and matplotlib\n"
     ]
    }
   ],
   "source": [
    "%pylab inline\n",
    "import os, sys\n",
    "from datetime import datetime\n",
    "from dateutil.relativedelta import relativedelta\n",
    "import json\n",
    "import numpy as np\n",
    "import matplotlib.pylab as plt\n",
    "import matplotlib.dates as mdates\n",
    "\n",
    "import pandas as pd"
   ]
  },
  {
   "cell_type": "code",
   "execution_count": 2,
   "metadata": {
    "collapsed": false
   },
   "outputs": [
    {
     "name": "stdout",
     "output_type": "stream",
     "text": [
      "221 books read\n"
     ]
    }
   ],
   "source": [
    "bookshelf = json.loads(open('bookshelf.json','r').read())['books']\n",
    "print len(bookshelf), 'books read'"
   ]
  },
  {
   "cell_type": "code",
   "execution_count": 3,
   "metadata": {
    "collapsed": false
   },
   "outputs": [
    {
     "name": "stdout",
     "output_type": "stream",
     "text": [
      "{u'2011-08': 7, u'2011-09': 7, u'2014-08': 4, u'2014-05': 4, u'2014-04': 3, u'2014-07': 3, u'2014-06': 3, u'2011-06': 4, u'2011-07': 1, u'2014-03': 1, u'2011-05': 3, u'2012-10': 2, u'2010-03': 2, u'2010-08': 1, u'2013-08': 1, u'2010-04': 1, u'2010-07': 2, u'2015-10': 3, u'2015-11': 4, u'2013-05': 1, u'2013-07': 2, u'2013-01': 2, u'2013-02': 3, u'2013-03': 2, u'2008-08': 2, u'2010-09': 4, u'2009-06': 3, u'2007-01': 2, u'2008-05': 1, u'2008-06': 2, u'2008-07': 5, u'2009-07': 1, u'2011-02': 1, u'2009-05': 2, u'2009-04': 2, u'2009-03': 1, u'2010-10': 1, u'2009-01': 2, u'2011-03': 3, u'2009-09': 3, u'2009-08': 1, u'2015-06': 3, u'2015-07': 1, u'2015-04': 1, u'2015-02': 4, u'2015-03': 3, u'2015-01': 1, u'2014-12': 4, u'2007-09': 3, u'2011-11': 2, u'2011-12': 2, u'2007-04': 1, u'2012-09': 1, u'2012-08': 2, u'2007-12': 1, u'2011-04': 2, u'2007-10': 1, u'2012-03': 1, u'2012-02': 2, u'2012-01': 4, u'2013-12': 1, u'2012-05': 1, u'2010-11': 1, u'2006-06': 1, u'2006-07': 1, u'2007-06': 1, u'2012-11': 1, u'2008-11': 2, u'2008-10': 2, u'2007-07': 2, u'2010-02': 4, u'2009-11': 2, u'2009-12': 2, u'2010-05': 1}\n"
     ]
    }
   ],
   "source": [
    "monthly = dict()\n",
    "for b in bookshelf:\n",
    "    if len(b['date'].split('-')) < 2:\n",
    "        continue\n",
    "    dstr = '-'.join(b['date'].split('-')[:2])\n",
    "    if dstr not in monthly:\n",
    "        monthly[dstr] = 0\n",
    "    monthly[dstr] += 1\n",
    "print monthly"
   ]
  },
  {
   "cell_type": "code",
   "execution_count": 5,
   "metadata": {
    "collapsed": false
   },
   "outputs": [
    {
     "data": {
      "image/png": "[encoded data removed]",
      "text/plain": [
       "<matplotlib.figure.Figure at 0x10863d090>"
      ]
     },
     "metadata": {},
     "output_type": "display_data"
    }
   ],
   "source": [
    "mSorted = sorted(monthly.keys())\n",
    "#for m in mSorted:\n",
    "#    print m, monthly[m], datetime.strptime(m, '%Y-%m')\n",
    "    \n",
    "fig = plt.figure(figsize=(9,3))\n",
    "plt.stem([datetime.strptime(m, '%Y-%m') for m in mSorted], [monthly[m] for m in mSorted])\n",
    "plt.ylim(ymax=max(monthly.values())+1)\n",
    "\n",
    "sDate = datetime.strptime(mSorted[0], '%Y-%m') + relativedelta(months=-1)\n",
    "eDate = datetime.strptime(mSorted[-1], '%Y-%m') + relativedelta(months=+1)\n",
    "while sDate < eDate:\n",
    "    temp = sDate + relativedelta(months=+1)\n",
    "    cval = 1-abs(sDate.month-6)/6.0\n",
    "    plt.axvspan(sDate, temp, facecolor=plt.cm.rainbow(cval),#'{}'.format(), \n",
    "                edgecolor='none',alpha=0.35)\n",
    "    sDate = temp"
   ]
  },
  {
   "cell_type": "code",
   "execution_count": null,
   "metadata": {
    "collapsed": true
   },
   "outputs": [],
   "source": []
  }
 ],
 "metadata": {
  "kernelspec": {
   "display_name": "Python 2",
   "language": "python",
   "name": "python2"
  },
  "language_info": {
   "codemirror_mode": {
    "name": "ipython",
    "version": 2
   },
   "file_extension": ".py",
   "mimetype": "text/x-python",
   "name": "python",
   "nbconvert_exporter": "python",
   "pygments_lexer": "ipython2",
   "version": "2.7.10"
  }
 },
 "nbformat": 4,
 "nbformat_minor": 0
}
